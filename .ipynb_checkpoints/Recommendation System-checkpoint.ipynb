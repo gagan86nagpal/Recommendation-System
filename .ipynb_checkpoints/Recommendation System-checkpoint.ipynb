{
 "cells": [
  {
   "cell_type": "code",
   "execution_count": 41,
   "metadata": {},
   "outputs": [],
   "source": [
    "%notebook matplotlib\n",
    "import matplotlib.pyplot as plt\n",
    "import numpy as np\n",
    "import pandas as ps\n"
   ]
  },
  {
   "cell_type": "code",
   "execution_count": 6,
   "metadata": {
    "collapsed": true
   },
   "outputs": [],
   "source": [
    "# A dictionary of movie critics and their ratings of a small\n",
    "# set of movies\n",
    "critics={\n",
    "    'Lisa Rose': {\n",
    "            'Lady in the Water': 2.5,\n",
    "            'Snakes on a Plane': 3.5,\n",
    "             'Just My Luck': 3.0,\n",
    "            'Superman Returns': 3.5,\n",
    "            'You, Me and Dupree': 2.5,\n",
    "             'The Night Listener': 3.0\n",
    "    },\n",
    "    'Gene Seymour': {\n",
    "            'Lady in the Water': 3.0, \n",
    "            'Snakes on a Plane': 3.5,\n",
    "             'Just My Luck': 1.5,\n",
    "            'Superman Returns': 5.0, \n",
    "            'The Night Listener': 3.0,\n",
    "             'You, Me and Dupree': 3.5\n",
    "    },\n",
    "    'Michael Phillips': {\n",
    "            'Lady in the Water': 2.5, \n",
    "            'Snakes on a Plane': 3.0,\n",
    "             'Superman Returns': 3.5,\n",
    "            'The Night Listener': 4.0\n",
    "    },\n",
    "    'Claudia Puig': {\n",
    "            'Snakes on a Plane': 3.5, \n",
    "             'Just My Luck': 3.0,\n",
    "             'The Night Listener': 4.5, \n",
    "            'Superman Returns': 4.0,\n",
    "             'You, Me and Dupree': 2.5\n",
    "    },\n",
    "    'Mick LaSalle':{\n",
    "            'Lady in the Water': 3.0, \n",
    "            'Snakes on a Plane': 4.0,\n",
    "             'Just My Luck': 2.0, \n",
    "            'Superman Returns': 3.0,\n",
    "            'The Night Listener': 3.0,\n",
    "             'You, Me and Dupree': 2.0\n",
    "    },\n",
    "    'Jack Matthews': {\n",
    "            'Lady in the Water': 3.0,\n",
    "             'Snakes on a Plane': 4.0,\n",
    "             'The Night Listener': 3.0,\n",
    "             'Superman Returns': 5.0,\n",
    "             'You, Me and Dupree': 3.5\n",
    "    },\n",
    "    'Toby': {\n",
    "            'Snakes on a Plane':4.5,\n",
    "             'You, Me and Dupree':1.0,\n",
    "             'Superman Returns':4.0\n",
    "    }\n",
    "}"
   ]
  },
  {
   "cell_type": "code",
   "execution_count": 10,
   "metadata": {},
   "outputs": [
    {
     "data": {
      "text/plain": [
       "2.5"
      ]
     },
     "execution_count": 10,
     "metadata": {},
     "output_type": "execute_result"
    }
   ],
   "source": [
    "critics['Lisa Rose']['Lady in the Water']\n"
   ]
  },
  {
   "cell_type": "code",
   "execution_count": 11,
   "metadata": {
    "collapsed": true
   },
   "outputs": [],
   "source": [
    "# Finding Similar Users"
   ]
  },
  {
   "cell_type": "code",
   "execution_count": 45,
   "metadata": {},
   "outputs": [],
   "source": [
    "# Euclidean Distance\n",
    "snakes='Snakes on a Plane'\n",
    "dupree='You, Me and Dupree'\n",
    "Snakes=[]\n",
    "Dupree=[]\n",
    "Names=[]\n",
    "for x in critics:\n",
    "    Names.append(x)\n",
    "    if(snakes in critics[x] and dupree in critics[x]):\n",
    "        Snakes.append(critics[x][snakes])\n",
    "        Dupree.append(critics[x][dupree])\n",
    "    "
   ]
  },
  {
   "cell_type": "code",
   "execution_count": 62,
   "metadata": {},
   "outputs": [
    {
     "data": {
      "image/png": "[encoded data removed]",
      "text/plain": [
       "<matplotlib.figure.Figure at 0x9ee3259a20>"
      ]
     },
     "metadata": {},
     "output_type": "display_data"
    }
   ],
   "source": [
    "plt.figure()\n",
    "plt.scatter(Dupree,Snakes,label=Names)\n",
    "ax=plt.gca()\n",
    "ax.set_xlim(0,5)\n",
    "ax.set_ylim(0,5)\n",
    "plt.xlabel('Dupree')\n",
    "plt.ylabel('Snakes')\n",
    "plt.legend()\n",
    "plt.show();"
   ]
  },
  {
   "cell_type": "code",
   "execution_count": 66,
   "metadata": {},
   "outputs": [
    {
     "data": {
      "text/plain": [
       "[0, 1, 2, 3, 4]"
      ]
     },
     "execution_count": 66,
     "metadata": {},
     "output_type": "execute_result"
    }
   ],
   "source": [
    "a=[i for i in range(5)]\n",
    "a"
   ]
  },
  {
   "cell_type": "code",
   "execution_count": 22,
   "metadata": {},
   "outputs": [
    {
     "data": {
      "text/plain": [
       "[2.5, 3.5, 2.5, 2.0, 3.5, 1.0]"
      ]
     },
     "execution_count": 22,
     "metadata": {},
     "output_type": "execute_result"
    }
   ],
   "source": []
  },
  {
   "cell_type": "code",
   "execution_count": null,
   "metadata": {
    "collapsed": true
   },
   "outputs": [],
   "source": []
  }
 ],
 "metadata": {
  "kernelspec": {
   "display_name": "Python 3",
   "language": "python",
   "name": "python3"
  },
  "language_info": {
   "codemirror_mode": {
    "name": "ipython",
    "version": 3
   },
   "file_extension": ".py",
   "mimetype": "text/x-python",
   "name": "python",
   "nbconvert_exporter": "python",
   "pygments_lexer": "ipython3",
   "version": "3.6.1"
  }
 },
 "nbformat": 4,
 "nbformat_minor": 2
}
