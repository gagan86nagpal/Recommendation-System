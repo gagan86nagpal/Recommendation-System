{
 "cells": [
  {
   "cell_type": "code",
   "execution_count": 2,
   "metadata": {},
   "outputs": [],
   "source": [
    "%notebook matplotlib\n",
    "import matplotlib.pyplot as plt\n",
    "import numpy as np\n",
    "import pandas as ps\n"
   ]
  },
  {
   "cell_type": "code",
   "execution_count": 3,
   "metadata": {
    "collapsed": true
   },
   "outputs": [],
   "source": [
    "# A dictionary of movie critics and their ratings of a small\n",
    "# set of movies\n",
    "critics={\n",
    "    'Lisa Rose': {\n",
    "            'Lady in the Water': 2.5,\n",
    "            'Snakes on a Plane': 3.5,\n",
    "             'Just My Luck': 3.0,\n",
    "            'Superman Returns': 3.5,\n",
    "            'You, Me and Dupree': 2.5,\n",
    "             'The Night Listener': 3.0\n",
    "    },\n",
    "    'Gene Seymour': {\n",
    "            'Lady in the Water': 3.0, \n",
    "            'Snakes on a Plane': 3.5,\n",
    "             'Just My Luck': 1.5,\n",
    "            'Superman Returns': 5.0, \n",
    "            'The Night Listener': 3.0,\n",
    "             'You, Me and Dupree': 3.5\n",
    "    },\n",
    "    'Michael Phillips': {\n",
    "            'Lady in the Water': 2.5, \n",
    "            'Snakes on a Plane': 3.0,\n",
    "             'Superman Returns': 3.5,\n",
    "            'The Night Listener': 4.0\n",
    "    },\n",
    "    'Claudia Puig': {\n",
    "            'Snakes on a Plane': 3.5, \n",
    "             'Just My Luck': 3.0,\n",
    "             'The Night Listener': 4.5, \n",
    "            'Superman Returns': 4.0,\n",
    "             'You, Me and Dupree': 2.5\n",
    "    },\n",
    "    'Mick LaSalle':{\n",
    "            'Lady in the Water': 3.0, \n",
    "            'Snakes on a Plane': 4.0,\n",
    "             'Just My Luck': 2.0, \n",
    "            'Superman Returns': 3.0,\n",
    "            'The Night Listener': 3.0,\n",
    "             'You, Me and Dupree': 2.0\n",
    "    },\n",
    "    'Jack Matthews': {\n",
    "            'Lady in the Water': 3.0,\n",
    "             'Snakes on a Plane': 4.0,\n",
    "             'The Night Listener': 3.0,\n",
    "             'Superman Returns': 5.0,\n",
    "             'You, Me and Dupree': 3.5\n",
    "    },\n",
    "    'Toby': {\n",
    "            'Snakes on a Plane':4.5,\n",
    "             'You, Me and Dupree':1.0,\n",
    "             'Superman Returns':4.0\n",
    "    }\n",
    "}"
   ]
  },
  {
   "cell_type": "code",
   "execution_count": 4,
   "metadata": {},
   "outputs": [
    {
     "data": {
      "text/plain": [
       "2.5"
      ]
     },
     "execution_count": 4,
     "metadata": {},
     "output_type": "execute_result"
    }
   ],
   "source": [
    "critics['Lisa Rose']['Lady in the Water']\n"
   ]
  },
  {
   "cell_type": "code",
   "execution_count": 5,
   "metadata": {
    "collapsed": true
   },
   "outputs": [],
   "source": [
    "# Finding Similar Users"
   ]
  },
  {
   "cell_type": "code",
   "execution_count": 6,
   "metadata": {
    "collapsed": true
   },
   "outputs": [],
   "source": [
    "# Euclidean Distance\n",
    "snakes='Snakes on a Plane'\n",
    "dupree='You, Me and Dupree'\n",
    "Snakes=[]\n",
    "Dupree=[]\n",
    "Names=[]\n",
    "for x in critics:\n",
    "    Names.append(x)\n",
    "    if(snakes in critics[x] and dupree in critics[x]):\n",
    "        Snakes.append(critics[x][snakes])\n",
    "        Dupree.append(critics[x][dupree])"
   ]
  },
  {
   "cell_type": "code",
   "execution_count": 7,
   "metadata": {},
   "outputs": [
    {
     "data": {
      "image/png": "[encoded data removed]",
      "text/plain": [
       "<matplotlib.figure.Figure at 0xd3023a7fd0>"
      ]
     },
     "metadata": {},
     "output_type": "display_data"
    }
   ],
   "source": [
    "plt.figure()\n",
    "plt.scatter(x=Dupree,y=Snakes,c=[0,1,2,3,4,5])\n",
    "ax=plt.gca()\n",
    "ax.set_xlim(0,5)\n",
    "ax.set_ylim(0,5)\n",
    "plt.xlabel('Dupree')\n",
    "plt.ylabel('Snakes')\n",
    "plt.show();"
   ]
  },
  {
   "cell_type": "code",
   "execution_count": 8,
   "metadata": {
    "collapsed": true
   },
   "outputs": [],
   "source": [
    "from math import sqrt\n",
    "#Returns a distance- based Similarity Score for person 1 and \n",
    "#person2\n",
    "def sim_distance(prefs,person1,person2):\n",
    "    # list of shared Items\n",
    "    si = {}\n",
    "    for item in prefs[person1]:\n",
    "        if item in prefs[person2]:\n",
    "            si[item]=1\n",
    "            \n",
    "    # if no ratings is common, return 0\n",
    "    if len(si)==0:\n",
    "        return 0\n",
    "    \n",
    "    sum_of_squares = [ pow(prefs[person1][item]-prefs[person2][item],2)\n",
    "                      for item in prefs[person1] if item in prefs[person2]]\n",
    "    \n",
    "    return 1/(1+sum(sum_of_squares))"
   ]
  },
  {
   "cell_type": "code",
   "execution_count": 9,
   "metadata": {},
   "outputs": [
    {
     "data": {
      "text/plain": [
       "0.14814814814814814"
      ]
     },
     "execution_count": 9,
     "metadata": {},
     "output_type": "execute_result"
    }
   ],
   "source": [
    "sim_distance(critics,'Lisa Rose','Gene Seymour')"
   ]
  },
  {
   "cell_type": "code",
   "execution_count": 10,
   "metadata": {
    "collapsed": true
   },
   "outputs": [],
   "source": [
    "# Pearson Score\n",
    "#One interesting aspect of using the Pearson score is that it corrects for grade inflation. \n",
    "#If one critic is inclined to give higher scores than the other, there can still be\n",
    "#perfect correlation if the difference between their scores is consistent. The Euclidean\n",
    "#distance score described earlier will say that two critics are dissimilar because one is\n",
    "#consistently harsher than the other, even if their tastes are very similar."
   ]
  },
  {
   "cell_type": "code",
   "execution_count": 11,
   "metadata": {
    "collapsed": true
   },
   "outputs": [],
   "source": [
    "# Returns the Pearson Correlation coefficient\n",
    "def sim_pearson(prefs,p1,p2):\n",
    "    si={} # Items rated by both users\n",
    "    for item in prefs[p1]:\n",
    "        if item in prefs[p2]:\n",
    "            si[item]=1\n",
    "    n = len(si) # number of items rated by both users\n",
    "    if n==0:  return 0\n",
    "    \n",
    "    # individual sums\n",
    "    sum1 =sum([prefs[p1][it] for it in si])\n",
    "    sum2 =sum([prefs[p2][it] for it in si])\n",
    "        \n",
    "    # sum of squares\n",
    "    sum1Sq =sum([ pow(prefs[p1][it],2) for it in si])\n",
    "    sum2Sq =sum([ pow(prefs[p2][it],2) for it in si])\n",
    "    \n",
    "    # product sum\n",
    "    pSum = sum([prefs[p1][it]*prefs[p2][it]  for it in si  ])\n",
    "\n",
    "    # Calcualte Pearson Score\n",
    "    num = pSum- (sum1*sum2/n)\n",
    "    den = sqrt ((sum1Sq - pow(sum1,2)/n) * (sum2Sq-pow(sum2,2)/n) )\n",
    "    \n",
    "    if den==0: return 0\n",
    "    return num/den\n"
   ]
  },
  {
   "cell_type": "code",
   "execution_count": 12,
   "metadata": {},
   "outputs": [
    {
     "name": "stdout",
     "output_type": "stream",
     "text": [
      "0.39605901719066977\n"
     ]
    }
   ],
   "source": [
    "print(sim_pearson(critics,'Lisa Rose','Gene Seymour'))"
   ]
  },
  {
   "cell_type": "code",
   "execution_count": 13,
   "metadata": {
    "collapsed": true
   },
   "outputs": [],
   "source": [
    "# Ranking the Critics\n",
    "# Which movie critics have tastes simliar to person so that\n",
    "# I know whose advice I should take when deciding on a movie. \n",
    "\n",
    "def topMatches(prefs,person,n=5,similarity = sim_pearson):\n",
    "    scores = [ (similarity(prefs,person,other),other) for other in prefs if other!=person]\n",
    "    \n",
    "    scores.sort()\n",
    "    scores.reverse() # top match at top\n",
    "    return scores[0:n]"
   ]
  },
  {
   "cell_type": "code",
   "execution_count": 14,
   "metadata": {},
   "outputs": [
    {
     "data": {
      "text/plain": [
       "[(0.9912407071619299, 'Lisa Rose'),\n",
       " (0.9244734516419049, 'Mick LaSalle'),\n",
       " (0.8934051474415647, 'Claudia Puig')]"
      ]
     },
     "execution_count": 14,
     "metadata": {},
     "output_type": "execute_result"
    }
   ],
   "source": [
    "topMatches(critics,'Toby',n=3)\n",
    "\n",
    "# Top Person , indicates the similar taste in movies , so I should take advice from top matches only"
   ]
  },
  {
   "cell_type": "code",
   "execution_count": 18,
   "metadata": {},
   "outputs": [],
   "source": [
    "# of every other user's rankings\n",
    "def getRecommendations(prefs,person,similarity=sim_pearson):\n",
    "    totals={}\n",
    "    simSums={}\n",
    "    for other in prefs:\n",
    "         # don't compare me to myself\n",
    "        if other==person: continue\n",
    "        sim=similarity(prefs,person,other)\n",
    "         # ignore scores of zero or lower\n",
    "        if sim<=0: continue\n",
    "        for item in prefs[other]:\n",
    "             # only score movies I haven't seen yet\n",
    "            if item not in prefs[person] or prefs[person][item]==0:\n",
    "                 # Similarity * Score\n",
    "                totals.setdefault(item,0)\n",
    "                totals[item]+=prefs[other][item]*sim\n",
    "                 # Sum of similarities\n",
    "                simSums.setdefault(item,0)\n",
    "                simSums[item]+=sim\n",
    "     # Create the normalized list\n",
    "    rankings=[(total/simSums[item],item) for item,total in totals.items( )]\n",
    "     # Return the sorted list\n",
    "    rankings.sort( )\n",
    "    rankings.reverse()\n",
    "    return rankings"
   ]
  },
  {
   "cell_type": "code",
   "execution_count": 19,
   "metadata": {},
   "outputs": [
    {
     "data": {
      "text/plain": [
       "[(3.3477895267131017, 'The Night Listener'),\n",
       " (2.8325499182641614, 'Lady in the Water'),\n",
       " (2.530980703765565, 'Just My Luck')]"
      ]
     },
     "execution_count": 19,
     "metadata": {},
     "output_type": "execute_result"
    }
   ],
   "source": [
    "getRecommendations(critics,'Toby')"
   ]
  },
  {
   "cell_type": "code",
   "execution_count": 20,
   "metadata": {
    "collapsed": true
   },
   "outputs": [],
   "source": [
    "# Here , we have explored the similarity of two persons on the basis of movies they have seen\n",
    "# Similar calculations can be carried out to compare similarities of two movies\n",
    "# So, we can recommend the movies similar to already watched movies\n"
   ]
  },
  {
   "cell_type": "code",
   "execution_count": 21,
   "metadata": {
    "collapsed": true
   },
   "outputs": [],
   "source": [
    "def tranformPrefs(prefs):\n",
    "    result={}\n",
    "    for person in prefs:\n",
    "        for item in prefs[person]:\n",
    "            result.setdefault(item,{})\n",
    "            \n",
    "            result[item][person] = prefs[person][item]\n",
    "    return result"
   ]
  },
  {
   "cell_type": "code",
   "execution_count": 22,
   "metadata": {},
   "outputs": [
    {
     "data": {
      "text/plain": [
       "[(0.6579516949597695, 'You, Me and Dupree'),\n",
       " (0.4879500364742689, 'Lady in the Water'),\n",
       " (0.11180339887498941, 'Snakes on a Plane'),\n",
       " (-0.1798471947990544, 'The Night Listener'),\n",
       " (-0.42289003161103106, 'Just My Luck')]"
      ]
     },
     "execution_count": 22,
     "metadata": {},
     "output_type": "execute_result"
    }
   ],
   "source": [
    "movies = tranformPrefs(critics)\n",
    "topMatches(movies,'Superman Returns')"
   ]
  },
  {
   "cell_type": "code",
   "execution_count": 23,
   "metadata": {},
   "outputs": [
    {
     "data": {
      "text/plain": [
       "[(4.0, 'Michael Phillips'), (3.0, 'Jack Matthews')]"
      ]
     },
     "execution_count": 23,
     "metadata": {},
     "output_type": "execute_result"
    }
   ],
   "source": [
    "## Here we are twisting sides and getting recommended critics for a movie\n",
    "getRecommendations(movies,'Just My Luck')  "
   ]
  },
  {
   "cell_type": "code",
   "execution_count": null,
   "metadata": {
    "collapsed": true
   },
   "outputs": [],
   "source": []
  },
  {
   "cell_type": "markdown",
   "metadata": {},
   "source": [
    "## Item-Based Filtering"
   ]
  },
  {
   "cell_type": "code",
   "execution_count": 24,
   "metadata": {
    "collapsed": true
   },
   "outputs": [],
   "source": [
    "#The general technique is to precompute the most similar items for each item. \n",
    "#Then, when you wish to make recommendations to a user, you look at his top-rated\n",
    "#items and create a weighted list of the items most similar to those. "
   ]
  },
  {
   "cell_type": "code",
   "execution_count": 25,
   "metadata": {
    "collapsed": true
   },
   "outputs": [],
   "source": [
    "# BUILDING THE ITEM COMPARISON DATASET"
   ]
  },
  {
   "cell_type": "code",
   "execution_count": 27,
   "metadata": {
    "collapsed": true
   },
   "outputs": [],
   "source": [
    "def calculateSimilarItems(prefs,n=10):\n",
    "     # Create a dictionary of items showing which other items they\n",
    "     # are most similar to.\n",
    "     result={}\n",
    "     # Invert the preference matrix to be item-centric\n",
    "     itemPrefs=tranformPrefs(prefs)\n",
    "     c=0\n",
    "     for item in itemPrefs:\n",
    "         # Status updates for large datasets\n",
    "         c+=1\n",
    "         if c%100==0: print( \"%d / %d\" % (c,len(itemPrefs)) )\n",
    "         # Find the most similar items to this one\n",
    "         scores=topMatches(itemPrefs,item,n=n,similarity=sim_distance)\n",
    "         result[item]=scores\n",
    "     return result"
   ]
  },
  {
   "cell_type": "code",
   "execution_count": 28,
   "metadata": {},
   "outputs": [
    {
     "data": {
      "text/plain": [
       "[(0.16666666666666666, 'Snakes on a Plane'),\n",
       " (0.10256410256410256, 'The Night Listener'),\n",
       " (0.09090909090909091, 'Lady in the Water'),\n",
       " (0.06451612903225806, 'Just My Luck'),\n",
       " (0.05333333333333334, 'You, Me and Dupree')]"
      ]
     },
     "execution_count": 28,
     "metadata": {},
     "output_type": "execute_result"
    }
   ],
   "source": [
    "# Similar Movies to Superman Returns\n",
    "calculateSimilarItems(critics)['Superman Returns']"
   ]
  },
  {
   "cell_type": "code",
   "execution_count": 29,
   "metadata": {
    "collapsed": true
   },
   "outputs": [],
   "source": [
    "# using the same weighted sum calculation ,we can calculate Recommended items and can give recommendations"
   ]
  },
  {
   "cell_type": "code",
   "execution_count": 33,
   "metadata": {},
   "outputs": [],
   "source": [
    "def getRecommendedItems(prefs,itemMatch,user):\n",
    "     userRatings=prefs[user]\n",
    "     scores={}\n",
    "     totalSim={}\n",
    "     # Loop over items rated by this user\n",
    "     for (item,rating) in userRatings.items( ):\n",
    "         # Loop over items similar to this one\n",
    "         for (similarity,item2) in itemMatch[item]:\n",
    "             # Ignore if this user has already rated this item\n",
    "             if item2 in userRatings: continue\n",
    "             # Weighted sum of rating times similarity\n",
    "             scores.setdefault(item2,0)\n",
    "             scores[item2]+=similarity*rating\n",
    "             # Sum of all the similarities\n",
    "             totalSim.setdefault(item2,0)\n",
    "             totalSim[item2]+=similarity\n",
    "     # Divide each total score by total weighting to get an average\n",
    "     rankings=[(score/totalSim[item],item) for item,score in scores.items( )]\n",
    "     # Return the rankings from highest to lowest\n",
    "     rankings.sort( )\n",
    "     rankings.reverse( )\n",
    "     return rankings"
   ]
  },
  {
   "cell_type": "code",
   "execution_count": 34,
   "metadata": {},
   "outputs": [
    {
     "data": {
      "text/plain": [
       "[(3.182634730538922, 'The Night Listener'),\n",
       " (2.5983318700614575, 'Just My Luck'),\n",
       " (2.4730878186968837, 'Lady in the Water')]"
      ]
     },
     "execution_count": 34,
     "metadata": {},
     "output_type": "execute_result"
    }
   ],
   "source": [
    "itemsim = calculateSimilarItems(critics)\n",
    "getRecommendedItems(critics,itemsim,'Toby')"
   ]
  },
  {
   "cell_type": "markdown",
   "metadata": {
    "collapsed": true
   },
   "source": [
    "## Working on a Real data set\n"
   ]
  },
  {
   "cell_type": "code",
   "execution_count": 35,
   "metadata": {
    "collapsed": true
   },
   "outputs": [],
   "source": [
    "# from https://grouplens.org/datasets/movielens/\n",
    "## Data Set has been modified by deleting the first line in both ratings and movies file"
   ]
  },
  {
   "cell_type": "code",
   "execution_count": 70,
   "metadata": {},
   "outputs": [],
   "source": [
    "## Method to parse this dataset into out program logic\n",
    "def loadMovieLens(path = './data/movielens'):\n",
    "    movies ={}\n",
    "    # movie titles\n",
    "    for line in open(path + '/movies.csv',encoding='utf-8'):\n",
    "        (id,title) = line.split(',')[0:2]\n",
    "        movies[id]=title\n",
    "        #print(line)\n",
    "    # Load Data\n",
    "    prefs={}\n",
    "    for line in open(path + '/ratings.csv',encoding='utf-8'):\n",
    "        (user,movieid,rating,timestamp) = line.split(',')\n",
    "        prefs.setdefault(user,{})\n",
    "        prefs[user][movies[movieid]]=float(rating)\n",
    "    return prefs"
   ]
  },
  {
   "cell_type": "code",
   "execution_count": 79,
   "metadata": {},
   "outputs": [
    {
     "data": {
      "text/plain": [
       "{'\"Birdcage': 4.0,\n",
       " '\"Rock': 3.0,\n",
       " 'Beavis and Butt-Head Do America (1996)': 2.0,\n",
       " 'Black Sheep (1996)': 3.0,\n",
       " 'Broken Arrow (1996)': 3.0,\n",
       " 'Cold Comfort Farm (1995)': 5.0,\n",
       " 'Eraser (1996)': 3.0,\n",
       " 'Executive Decision (1996)': 4.0,\n",
       " 'Fargo (1996)': 5.0,\n",
       " 'Happy Gilmore (1996)': 4.0,\n",
       " 'Independence Day (a.k.a. ID4) (1996)': 3.0,\n",
       " 'Kids in the Hall: Brain Candy (1996)': 3.0,\n",
       " 'Kingpin (1996)': 4.0,\n",
       " 'Leaving Las Vegas (1995)': 4.0,\n",
       " 'Léon: The Professional (a.k.a. The Professional) (Léon) (1994)': 5.0,\n",
       " 'Mighty Aphrodite (1995)': 4.0,\n",
       " 'Mission: Impossible (1996)': 3.0,\n",
       " \"Mr. Holland's Opus (1995)\": 1.0,\n",
       " 'Phenomenon (1996)': 3.0,\n",
       " 'Rumble in the Bronx (Hont faan kui) (1995)': 3.0,\n",
       " 'Sabrina (1995)': 3.0,\n",
       " 'Shine (1996)': 5.0,\n",
       " 'Star Wars: Episode IV - A New Hope (1977)': 4.0,\n",
       " 'Star Wars: Episode VI - Return of the Jedi (1983)': 3.0,\n",
       " 'Striptease (1996)': 3.0,\n",
       " 'Tin Cup (1996)': 1.0,\n",
       " 'Toy Story (1995)': 3.0,\n",
       " 'Trainspotting (1996)': 3.0,\n",
       " 'Twelve Monkeys (a.k.a. 12 Monkeys) (1995)': 3.0,\n",
       " 'Twister (1996)': 2.0,\n",
       " 'Willy Wonka & the Chocolate Factory (1971)': 3.0}"
      ]
     },
     "execution_count": 79,
     "metadata": {},
     "output_type": "execute_result"
    }
   ],
   "source": [
    "prefs=loadMovieLens()\n",
    "prefs['87']"
   ]
  },
  {
   "cell_type": "code",
   "execution_count": 80,
   "metadata": {},
   "outputs": [
    {
     "data": {
      "text/plain": [
       "[(5.0, 'Wrong Cops (2013)'),\n",
       " (5.0, 'Wrong (2012)'),\n",
       " (5.0, 'Wolf Children (Okami kodomo no ame to yuki) (2012)'),\n",
       " (5.0, 'Without a Clue (1988)'),\n",
       " (5.0, 'Wish Upon a Star (1996)'),\n",
       " (5.0, 'Willie & Phil (1980)'),\n",
       " (5.0, 'When Night Is Falling (1995)'),\n",
       " (5.0, 'Waltz with Bashir (Vals im Bashir) (2008)'),\n",
       " (5.0, 'Waiter (Ober) (2006)'),\n",
       " (5.0, 'Voyeur (Abel) (1986)'),\n",
       " (5.0, 'Visions of Light: The Art of Cinematography (1992)'),\n",
       " (5.0, 'Village of the Damned (1960)'),\n",
       " (5.0, 'Undertow (2004)'),\n",
       " (5.0, 'Trailer Park Boys (1999)'),\n",
       " (5.0, 'Through the Olive Trees (Zire darakhatan zeyton) (1994)'),\n",
       " (5.0, 'They All Laughed (1981)'),\n",
       " (5.0, 'Theremin: An Electronic Odyssey (1993)'),\n",
       " (5.0, 'The Slipper and the Rose: The Story of Cinderella (1976)'),\n",
       " (5.0, 'The Pacific (2010)'),\n",
       " (5.0, 'The Last Days of Emma Blank (2009)'),\n",
       " (5.0, 'The Earrings of Madame de... (1953)'),\n",
       " (5.0, 'The Dress (1996)'),\n",
       " (5.0, 'The Big Bus (1976)'),\n",
       " (5.0, 'The Beatles: Eight Days a Week - The Touring Years (2016)'),\n",
       " (5.0, \"Taste of Cherry (Ta'm e guilass) (1997)\"),\n",
       " (5.0, 'State of Siege (État de siège) (1972)'),\n",
       " (5.0, 'Shogun Assassin (1980)'),\n",
       " (5.0, 'Seve (2014)'),\n",
       " (5.0, 'Seconds (1966)'),\n",
       " (5.0, 'Schneider vs. Bax (2015)')]"
      ]
     },
     "execution_count": 80,
     "metadata": {},
     "output_type": "execute_result"
    }
   ],
   "source": [
    "## Getting recommendations for user id '87'\n",
    "## USER BASED\n",
    "getRecommendations(prefs,'87')[0:30]"
   ]
  },
  {
   "cell_type": "code",
   "execution_count": 82,
   "metadata": {},
   "outputs": [
    {
     "name": "stdout",
     "output_type": "stream",
     "text": [
      "100 / 8963\n",
      "200 / 8963\n",
      "300 / 8963\n",
      "400 / 8963\n",
      "500 / 8963\n",
      "600 / 8963\n",
      "700 / 8963\n",
      "800 / 8963\n",
      "900 / 8963\n",
      "1000 / 8963\n",
      "1100 / 8963\n",
      "1200 / 8963\n",
      "1300 / 8963\n",
      "1400 / 8963\n",
      "1500 / 8963\n",
      "1600 / 8963\n",
      "1700 / 8963\n",
      "1800 / 8963\n",
      "1900 / 8963\n",
      "2000 / 8963\n",
      "2100 / 8963\n",
      "2200 / 8963\n",
      "2300 / 8963\n",
      "2400 / 8963\n",
      "2500 / 8963\n",
      "2600 / 8963\n",
      "2700 / 8963\n",
      "2800 / 8963\n",
      "2900 / 8963\n",
      "3000 / 8963\n",
      "3100 / 8963\n",
      "3200 / 8963\n",
      "3300 / 8963\n",
      "3400 / 8963\n",
      "3500 / 8963\n",
      "3600 / 8963\n",
      "3700 / 8963\n",
      "3800 / 8963\n",
      "3900 / 8963\n",
      "4000 / 8963\n",
      "4100 / 8963\n",
      "4200 / 8963\n",
      "4300 / 8963\n",
      "4400 / 8963\n",
      "4500 / 8963\n",
      "4600 / 8963\n",
      "4700 / 8963\n",
      "4800 / 8963\n",
      "4900 / 8963\n",
      "5000 / 8963\n",
      "5100 / 8963\n",
      "5200 / 8963\n",
      "5300 / 8963\n",
      "5400 / 8963\n",
      "5500 / 8963\n",
      "5600 / 8963\n",
      "5700 / 8963\n",
      "5800 / 8963\n",
      "5900 / 8963\n",
      "6000 / 8963\n",
      "6100 / 8963\n",
      "6200 / 8963\n",
      "6300 / 8963\n",
      "6400 / 8963\n",
      "6500 / 8963\n",
      "6600 / 8963\n",
      "6700 / 8963\n",
      "6800 / 8963\n",
      "6900 / 8963\n",
      "7000 / 8963\n",
      "7100 / 8963\n",
      "7200 / 8963\n",
      "7300 / 8963\n",
      "7400 / 8963\n",
      "7500 / 8963\n",
      "7600 / 8963\n",
      "7700 / 8963\n",
      "7800 / 8963\n",
      "7900 / 8963\n",
      "8000 / 8963\n",
      "8100 / 8963\n",
      "8200 / 8963\n",
      "8300 / 8963\n",
      "8400 / 8963\n",
      "8500 / 8963\n",
      "8600 / 8963\n",
      "8700 / 8963\n",
      "8800 / 8963\n",
      "8900 / 8963\n"
     ]
    }
   ],
   "source": [
    "## GETTING ITEM BASED RECOMMENDATIONS\n",
    "## Slow , but builds only a single time\n",
    "itemsim = calculateSimilarItems(prefs,n=50)"
   ]
  },
  {
   "cell_type": "markdown",
   "metadata": {},
   "source": []
  },
  {
   "cell_type": "code",
   "execution_count": 83,
   "metadata": {},
   "outputs": [
    {
     "data": {
      "text/plain": [
       "[(5.0, 'xXx (2002)'),\n",
       " (5.0, 'loudQUIETloud: A Film About the Pixies (2006)'),\n",
       " (5.0, 'Zombieland (2009)'),\n",
       " (5.0, 'Zodiac (2007)'),\n",
       " (5.0, 'Zenon: Z3 (2004)'),\n",
       " (5.0, 'Zenon: The Zequel (2001)'),\n",
       " (5.0, 'Zenon: Girl of the 21st Century (1999)'),\n",
       " (5.0, 'Young People Fucking (a.k.a. YPF) (2007)'),\n",
       " (5.0, 'Yossi & Jagger (2002)'),\n",
       " (5.0, 'Wrong Cops (2013)'),\n",
       " (5.0, 'Wrong (2012)'),\n",
       " (5.0, 'Wonderland (2003)'),\n",
       " (5.0, 'Wonder Woman (2009)'),\n",
       " (5.0, \"Winter's Bone (2010)\"),\n",
       " (5.0, 'Winnie the Pooh and the Blustery Day (1968)'),\n",
       " (5.0, 'Winnebago Man (2009)'),\n",
       " (5.0, 'Willie & Phil (1980)'),\n",
       " (5.0, 'Wild at Heart (1990)'),\n",
       " (5.0, 'White Lightning (1973)'),\n",
       " (5.0, 'Whiplash (2014)'),\n",
       " (5.0, 'Wetlands (Feuchtgebiete) (2013)'),\n",
       " (5.0, 'Wedding Crashers (2005)'),\n",
       " (5.0, 'We Own the Night (2007)'),\n",
       " (5.0, 'We Bought a Zoo (2011)'),\n",
       " (5.0, 'Walking and Talking (1996)'),\n",
       " (5.0, 'Waiter (Ober) (2006)'),\n",
       " (5.0, 'Voyeur (Abel) (1986)'),\n",
       " (5.0, 'Visions of Light: The Art of Cinematography (1992)'),\n",
       " (5.0, 'Violeta Went to Heaven (Violeta se fue a los cielos) (2011)'),\n",
       " (5.0, 'Very Bad Things (1998)')]"
      ]
     },
     "execution_count": 83,
     "metadata": {},
     "output_type": "execute_result"
    }
   ],
   "source": [
    "getRecommendedItems(prefs,itemsim,'87')[0:30]"
   ]
  },
  {
   "cell_type": "code",
   "execution_count": null,
   "metadata": {
    "collapsed": true
   },
   "outputs": [],
   "source": []
  }
 ],
 "metadata": {
  "kernelspec": {
   "display_name": "Python 3",
   "language": "python",
   "name": "python3"
  },
  "language_info": {
   "codemirror_mode": {
    "name": "ipython",
    "version": 3
   },
   "file_extension": ".py",
   "mimetype": "text/x-python",
   "name": "python",
   "nbconvert_exporter": "python",
   "pygments_lexer": "ipython3",
   "version": "3.6.1"
  }
 },
 "nbformat": 4,
 "nbformat_minor": 2
}
