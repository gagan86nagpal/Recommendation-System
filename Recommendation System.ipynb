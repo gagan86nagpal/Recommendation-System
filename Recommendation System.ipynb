{
 "cells": [
  {
   "cell_type": "code",
   "execution_count": 41,
   "metadata": {},
   "outputs": [],
   "source": [
    "%notebook matplotlib\n",
    "import matplotlib.pyplot as plt\n",
    "import numpy as np\n",
    "import pandas as ps\n"
   ]
  },
  {
   "cell_type": "code",
   "execution_count": 6,
   "metadata": {
    "collapsed": true
   },
   "outputs": [],
   "source": [
    "# A dictionary of movie critics and their ratings of a small\n",
    "# set of movies\n",
    "critics={\n",
    "    'Lisa Rose': {\n",
    "            'Lady in the Water': 2.5,\n",
    "            'Snakes on a Plane': 3.5,\n",
    "             'Just My Luck': 3.0,\n",
    "            'Superman Returns': 3.5,\n",
    "            'You, Me and Dupree': 2.5,\n",
    "             'The Night Listener': 3.0\n",
    "    },\n",
    "    'Gene Seymour': {\n",
    "            'Lady in the Water': 3.0, \n",
    "            'Snakes on a Plane': 3.5,\n",
    "             'Just My Luck': 1.5,\n",
    "            'Superman Returns': 5.0, \n",
    "            'The Night Listener': 3.0,\n",
    "             'You, Me and Dupree': 3.5\n",
    "    },\n",
    "    'Michael Phillips': {\n",
    "            'Lady in the Water': 2.5, \n",
    "            'Snakes on a Plane': 3.0,\n",
    "             'Superman Returns': 3.5,\n",
    "            'The Night Listener': 4.0\n",
    "    },\n",
    "    'Claudia Puig': {\n",
    "            'Snakes on a Plane': 3.5, \n",
    "             'Just My Luck': 3.0,\n",
    "             'The Night Listener': 4.5, \n",
    "            'Superman Returns': 4.0,\n",
    "             'You, Me and Dupree': 2.5\n",
    "    },\n",
    "    'Mick LaSalle':{\n",
    "            'Lady in the Water': 3.0, \n",
    "            'Snakes on a Plane': 4.0,\n",
    "             'Just My Luck': 2.0, \n",
    "            'Superman Returns': 3.0,\n",
    "            'The Night Listener': 3.0,\n",
    "             'You, Me and Dupree': 2.0\n",
    "    },\n",
    "    'Jack Matthews': {\n",
    "            'Lady in the Water': 3.0,\n",
    "             'Snakes on a Plane': 4.0,\n",
    "             'The Night Listener': 3.0,\n",
    "             'Superman Returns': 5.0,\n",
    "             'You, Me and Dupree': 3.5\n",
    "    },\n",
    "    'Toby': {\n",
    "            'Snakes on a Plane':4.5,\n",
    "             'You, Me and Dupree':1.0,\n",
    "             'Superman Returns':4.0\n",
    "    }\n",
    "}"
   ]
  },
  {
   "cell_type": "code",
   "execution_count": 10,
   "metadata": {},
   "outputs": [
    {
     "data": {
      "text/plain": [
       "2.5"
      ]
     },
     "execution_count": 10,
     "metadata": {},
     "output_type": "execute_result"
    }
   ],
   "source": [
    "critics['Lisa Rose']['Lady in the Water']\n"
   ]
  },
  {
   "cell_type": "code",
   "execution_count": 11,
   "metadata": {
    "collapsed": true
   },
   "outputs": [],
   "source": [
    "# Finding Similar Users"
   ]
  },
  {
   "cell_type": "code",
   "execution_count": 83,
   "metadata": {},
   "outputs": [],
   "source": [
    "# Euclidean Distance\n",
    "snakes='Snakes on a Plane'\n",
    "dupree='You, Me and Dupree'\n",
    "Snakes=[]\n",
    "Dupree=[]\n",
    "Names=[]\n",
    "for x in critics:\n",
    "    Names.append(x)\n",
    "    if(snakes in critics[x] and dupree in critics[x]):\n",
    "        Snakes.append(critics[x][snakes])\n",
    "        Dupree.append(critics[x][dupree])"
   ]
  },
  {
   "cell_type": "code",
   "execution_count": 88,
   "metadata": {},
   "outputs": [
    {
     "data": {
      "image/png": "[encoded data removed]",
      "text/plain": [
       "<matplotlib.figure.Figure at 0x9ee32c1ba8>"
      ]
     },
     "metadata": {},
     "output_type": "display_data"
    }
   ],
   "source": [
    "plt.figure()\n",
    "plt.scatter(x=Dupree,y=Snakes,c=[0,1,2,3,4,5])\n",
    "ax=plt.gca()\n",
    "ax.set_xlim(0,5)\n",
    "ax.set_ylim(0,5)\n",
    "plt.xlabel('Dupree')\n",
    "plt.ylabel('Snakes')\n",
    "plt.show();"
   ]
  },
  {
   "cell_type": "code",
   "execution_count": 112,
   "metadata": {},
   "outputs": [],
   "source": [
    "from math import sqrt\n",
    "#Returns a distance- based Similarity Score for person 1 and \n",
    "#person2\n",
    "def sim_distance(prefs,person1,person2):\n",
    "    # list of shared Items\n",
    "    si = {}\n",
    "    for item in prefs[person1]:\n",
    "        if item in prefs[person2]:\n",
    "            si[item]=1\n",
    "            \n",
    "    # if no ratings is common, return 0\n",
    "    if len(si)==0:\n",
    "        return 0\n",
    "    \n",
    "    sum_of_squares = [ pow(prefs[person1][item]-prefs[person2][item],2)\n",
    "                      for item in prefs[person1] if item in prefs[person2]]\n",
    "    \n",
    "    return 1/(1+sum(sum_of_squares))"
   ]
  },
  {
   "cell_type": "code",
   "execution_count": 113,
   "metadata": {},
   "outputs": [
    {
     "data": {
      "text/plain": [
       "0.14814814814814814"
      ]
     },
     "execution_count": 113,
     "metadata": {},
     "output_type": "execute_result"
    }
   ],
   "source": [
    "sim_distance(critics,'Lisa Rose','Gene Seymour')"
   ]
  },
  {
   "cell_type": "code",
   "execution_count": null,
   "metadata": {
    "collapsed": true
   },
   "outputs": [],
   "source": []
  }
 ],
 "metadata": {
  "kernelspec": {
   "display_name": "Python 3",
   "language": "python",
   "name": "python3"
  },
  "language_info": {
   "codemirror_mode": {
    "name": "ipython",
    "version": 3
   },
   "file_extension": ".py",
   "mimetype": "text/x-python",
   "name": "python",
   "nbconvert_exporter": "python",
   "pygments_lexer": "ipython3",
   "version": "3.6.1"
  }
 },
 "nbformat": 4,
 "nbformat_minor": 2
}
