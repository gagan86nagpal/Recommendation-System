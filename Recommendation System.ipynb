{
 "cells": [
  {
   "cell_type": "code",
   "execution_count": 2,
   "metadata": {},
   "outputs": [],
   "source": [
    "%notebook matplotlib\n",
    "import matplotlib.pyplot as plt\n",
    "import numpy as np\n",
    "import pandas as ps\n"
   ]
  },
  {
   "cell_type": "code",
   "execution_count": 3,
   "metadata": {
    "collapsed": true
   },
   "outputs": [],
   "source": [
    "# A dictionary of movie critics and their ratings of a small\n",
    "# set of movies\n",
    "critics={\n",
    "    'Lisa Rose': {\n",
    "            'Lady in the Water': 2.5,\n",
    "            'Snakes on a Plane': 3.5,\n",
    "             'Just My Luck': 3.0,\n",
    "            'Superman Returns': 3.5,\n",
    "            'You, Me and Dupree': 2.5,\n",
    "             'The Night Listener': 3.0\n",
    "    },\n",
    "    'Gene Seymour': {\n",
    "            'Lady in the Water': 3.0, \n",
    "            'Snakes on a Plane': 3.5,\n",
    "             'Just My Luck': 1.5,\n",
    "            'Superman Returns': 5.0, \n",
    "            'The Night Listener': 3.0,\n",
    "             'You, Me and Dupree': 3.5\n",
    "    },\n",
    "    'Michael Phillips': {\n",
    "            'Lady in the Water': 2.5, \n",
    "            'Snakes on a Plane': 3.0,\n",
    "             'Superman Returns': 3.5,\n",
    "            'The Night Listener': 4.0\n",
    "    },\n",
    "    'Claudia Puig': {\n",
    "            'Snakes on a Plane': 3.5, \n",
    "             'Just My Luck': 3.0,\n",
    "             'The Night Listener': 4.5, \n",
    "            'Superman Returns': 4.0,\n",
    "             'You, Me and Dupree': 2.5\n",
    "    },\n",
    "    'Mick LaSalle':{\n",
    "            'Lady in the Water': 3.0, \n",
    "            'Snakes on a Plane': 4.0,\n",
    "             'Just My Luck': 2.0, \n",
    "            'Superman Returns': 3.0,\n",
    "            'The Night Listener': 3.0,\n",
    "             'You, Me and Dupree': 2.0\n",
    "    },\n",
    "    'Jack Matthews': {\n",
    "            'Lady in the Water': 3.0,\n",
    "             'Snakes on a Plane': 4.0,\n",
    "             'The Night Listener': 3.0,\n",
    "             'Superman Returns': 5.0,\n",
    "             'You, Me and Dupree': 3.5\n",
    "    },\n",
    "    'Toby': {\n",
    "            'Snakes on a Plane':4.5,\n",
    "             'You, Me and Dupree':1.0,\n",
    "             'Superman Returns':4.0\n",
    "    }\n",
    "}"
   ]
  },
  {
   "cell_type": "code",
   "execution_count": 4,
   "metadata": {},
   "outputs": [
    {
     "data": {
      "text/plain": [
       "2.5"
      ]
     },
     "execution_count": 4,
     "metadata": {},
     "output_type": "execute_result"
    }
   ],
   "source": [
    "critics['Lisa Rose']['Lady in the Water']\n"
   ]
  },
  {
   "cell_type": "code",
   "execution_count": 5,
   "metadata": {
    "collapsed": true
   },
   "outputs": [],
   "source": [
    "# Finding Similar Users"
   ]
  },
  {
   "cell_type": "code",
   "execution_count": 6,
   "metadata": {
    "collapsed": true
   },
   "outputs": [],
   "source": [
    "# Euclidean Distance\n",
    "snakes='Snakes on a Plane'\n",
    "dupree='You, Me and Dupree'\n",
    "Snakes=[]\n",
    "Dupree=[]\n",
    "Names=[]\n",
    "for x in critics:\n",
    "    Names.append(x)\n",
    "    if(snakes in critics[x] and dupree in critics[x]):\n",
    "        Snakes.append(critics[x][snakes])\n",
    "        Dupree.append(critics[x][dupree])"
   ]
  },
  {
   "cell_type": "code",
   "execution_count": 7,
   "metadata": {},
   "outputs": [
    {
     "data": {
      "image/png": "[encoded data removed]",
      "text/plain": [
       "<matplotlib.figure.Figure at 0xebc6c67518>"
      ]
     },
     "metadata": {},
     "output_type": "display_data"
    }
   ],
   "source": [
    "plt.figure()\n",
    "plt.scatter(x=Dupree,y=Snakes,c=[0,1,2,3,4,5])\n",
    "ax=plt.gca()\n",
    "ax.set_xlim(0,5)\n",
    "ax.set_ylim(0,5)\n",
    "plt.xlabel('Dupree')\n",
    "plt.ylabel('Snakes')\n",
    "plt.show();"
   ]
  },
  {
   "cell_type": "code",
   "execution_count": 8,
   "metadata": {
    "collapsed": true
   },
   "outputs": [],
   "source": [
    "from math import sqrt\n",
    "#Returns a distance- based Similarity Score for person 1 and \n",
    "#person2\n",
    "def sim_distance(prefs,person1,person2):\n",
    "    # list of shared Items\n",
    "    si = {}\n",
    "    for item in prefs[person1]:\n",
    "        if item in prefs[person2]:\n",
    "            si[item]=1\n",
    "            \n",
    "    # if no ratings is common, return 0\n",
    "    if len(si)==0:\n",
    "        return 0\n",
    "    \n",
    "    sum_of_squares = [ pow(prefs[person1][item]-prefs[person2][item],2)\n",
    "                      for item in prefs[person1] if item in prefs[person2]]\n",
    "    \n",
    "    return 1/(1+sum(sum_of_squares))"
   ]
  },
  {
   "cell_type": "code",
   "execution_count": 9,
   "metadata": {},
   "outputs": [
    {
     "data": {
      "text/plain": [
       "0.14814814814814814"
      ]
     },
     "execution_count": 9,
     "metadata": {},
     "output_type": "execute_result"
    }
   ],
   "source": [
    "sim_distance(critics,'Lisa Rose','Gene Seymour')"
   ]
  },
  {
   "cell_type": "code",
   "execution_count": 10,
   "metadata": {
    "collapsed": true
   },
   "outputs": [],
   "source": [
    "# Pearson Score\n",
    "#One interesting aspect of using the Pearson score is that it corrects for grade inflation. \n",
    "#If one critic is inclined to give higher scores than the other, there can still be\n",
    "#perfect correlation if the difference between their scores is consistent. The Euclidean\n",
    "#distance score described earlier will say that two critics are dissimilar because one is\n",
    "#consistently harsher than the other, even if their tastes are very similar."
   ]
  },
  {
   "cell_type": "code",
   "execution_count": 11,
   "metadata": {
    "collapsed": true
   },
   "outputs": [],
   "source": [
    "# Returns the Pearson Correlation coefficient\n",
    "def sim_pearson(prefs,p1,p2):\n",
    "    si={} # Items rated by both users\n",
    "    for item in prefs[p1]:\n",
    "        if item in prefs[p2]:\n",
    "            si[item]=1\n",
    "    n = len(si) # number of items rated by both users\n",
    "    if n==0:  return 0\n",
    "    \n",
    "    # individual sums\n",
    "    sum1 =sum([prefs[p1][it] for it in si])\n",
    "    sum2 =sum([prefs[p2][it] for it in si])\n",
    "        \n",
    "    # sum of squares\n",
    "    sum1Sq =sum([ pow(prefs[p1][it],2) for it in si])\n",
    "    sum2Sq =sum([ pow(prefs[p2][it],2) for it in si])\n",
    "    \n",
    "    # product sum\n",
    "    pSum = sum([prefs[p1][it]*prefs[p2][it]  for it in si  ])\n",
    "\n",
    "    # Calcualte Pearson Score\n",
    "    num = pSum- (sum1*sum2/n)\n",
    "    den = sqrt ((sum1Sq - pow(sum1,2)/n) * (sum2Sq-pow(sum2,2)/n) )\n",
    "    \n",
    "    if den==0: return 0\n",
    "    return num/den\n"
   ]
  },
  {
   "cell_type": "code",
   "execution_count": 12,
   "metadata": {},
   "outputs": [
    {
     "name": "stdout",
     "output_type": "stream",
     "text": [
      "0.39605901719066977\n"
     ]
    }
   ],
   "source": [
    "print(sim_pearson(critics,'Lisa Rose','Gene Seymour'))"
   ]
  },
  {
   "cell_type": "code",
   "execution_count": 13,
   "metadata": {
    "collapsed": true
   },
   "outputs": [],
   "source": [
    "# Ranking the Critics\n",
    "# Which movie critics have tastes simliar to person so that\n",
    "# I know whose advice I should take when deciding on a movie. \n",
    "\n",
    "def topMatches(prefs,person,n=5,similarity = sim_pearson):\n",
    "    scores = [ (similarity(prefs,person,other),other) for other in prefs if other!=person]\n",
    "    \n",
    "    scores.sort()\n",
    "    scores.reverse() # top match at top\n",
    "    return scores[0:n]"
   ]
  },
  {
   "cell_type": "code",
   "execution_count": 14,
   "metadata": {},
   "outputs": [
    {
     "data": {
      "text/plain": [
       "[(0.9912407071619299, 'Lisa Rose'),\n",
       " (0.9244734516419049, 'Mick LaSalle'),\n",
       " (0.8934051474415647, 'Claudia Puig')]"
      ]
     },
     "execution_count": 14,
     "metadata": {},
     "output_type": "execute_result"
    }
   ],
   "source": [
    "topMatches(critics,'Toby',n=3)\n",
    "\n",
    "# Top Person , indicates the similar taste in movies , so I should take advice from top matches only"
   ]
  },
  {
   "cell_type": "code",
   "execution_count": 71,
   "metadata": {},
   "outputs": [
    {
     "ename": "IndentationError",
     "evalue": "unindent does not match any outer indentation level (<ipython-input-71-3ef47ff216c4>, line 8)",
     "output_type": "error",
     "traceback": [
      "\u001b[1;36m  File \u001b[1;32m\"<ipython-input-71-3ef47ff216c4>\"\u001b[1;36m, line \u001b[1;32m8\u001b[0m\n\u001b[1;33m    sim=similarity(prefs,person,other)\u001b[0m\n\u001b[1;37m                                      ^\u001b[0m\n\u001b[1;31mIndentationError\u001b[0m\u001b[1;31m:\u001b[0m unindent does not match any outer indentation level\n"
     ]
    }
   ],
   "source": [
    "# of every other user's rankings\n",
    "def getRecommendations(prefs,person,similarity=sim_pearson):\n",
    "    totals={}\n",
    "    simSums={}\n",
    "    for other in prefs:\n",
    "         # don't compare me to myself\n",
    "         if other==person: continue\n",
    "        sim=similarity(prefs,person,other)\n",
    "         # ignore scores of zero or lower\n",
    "        if sim<=0: continue\n",
    "        for item in prefs[other]:\n",
    "             # only score movies I haven't seen yet\n",
    "            if item not in prefs[person] or prefs[person][item]==0:\n",
    "                 # Similarity * Score\n",
    "                totals.setdefault(item,0)\n",
    "                totals[item]+=prefs[other][item]*sim\n",
    "                 # Sum of similarities\n",
    "                simSums.setdefault(item,0)\n",
    "                simSums[item]+=sim\n",
    "     # Create the normalized list\n",
    "    rankings=[(total/simSums[item],item) for item,total in totals.items( )]\n",
    "     # Return the sorted list\n",
    "    rankings.sort( )\n",
    "    rankings.reverse()\n",
    "    return rankings"
   ]
  },
  {
   "cell_type": "code",
   "execution_count": 16,
   "metadata": {},
   "outputs": [
    {
     "data": {
      "text/plain": [
       "[(3.3477895267131017, 'The Night Listener'),\n",
       " (2.8325499182641614, 'Lady in the Water'),\n",
       " (2.530980703765565, 'Just My Luck')]"
      ]
     },
     "execution_count": 16,
     "metadata": {},
     "output_type": "execute_result"
    }
   ],
   "source": [
    "getRecommendations(critics,'Toby')"
   ]
  },
  {
   "cell_type": "code",
   "execution_count": 17,
   "metadata": {
    "collapsed": true
   },
   "outputs": [],
   "source": [
    "# Here , we have explored the similarity of two persons on the basis of movies they have seen\n",
    "# Similar calculations can be carried out to compare similarities of two movies\n",
    "# So, we can recommend the movies similar to already watched movies\n"
   ]
  },
  {
   "cell_type": "code",
   "execution_count": 21,
   "metadata": {
    "collapsed": true
   },
   "outputs": [],
   "source": [
    "def tranformPrefs(prefs):\n",
    "    result={}\n",
    "    for person in prefs:\n",
    "        for item in prefs[person]:\n",
    "            result.setdefault(item,{})\n",
    "            \n",
    "            result[item][person] = prefs[person][item]\n",
    "    return result"
   ]
  },
  {
   "cell_type": "code",
   "execution_count": 26,
   "metadata": {},
   "outputs": [
    {
     "data": {
      "text/plain": [
       "[(0.6579516949597695, 'You, Me and Dupree'),\n",
       " (0.4879500364742689, 'Lady in the Water'),\n",
       " (0.11180339887498941, 'Snakes on a Plane'),\n",
       " (-0.1798471947990544, 'The Night Listener'),\n",
       " (-0.42289003161103106, 'Just My Luck')]"
      ]
     },
     "execution_count": 26,
     "metadata": {},
     "output_type": "execute_result"
    }
   ],
   "source": [
    "movies = tranformPrefs(critics)\n",
    "topMatches(movies,'Superman Returns')"
   ]
  },
  {
   "cell_type": "code",
   "execution_count": 30,
   "metadata": {},
   "outputs": [
    {
     "data": {
      "text/plain": [
       "[(4.0, 'Michael Phillips'), (3.0, 'Jack Matthews')]"
      ]
     },
     "execution_count": 30,
     "metadata": {},
     "output_type": "execute_result"
    }
   ],
   "source": [
    "## Here we are twisting sides and getting recommended critics for a movie\n",
    "getRecommendations(movies,'Just My Luck')  "
   ]
  },
  {
   "cell_type": "code",
   "execution_count": null,
   "metadata": {
    "collapsed": true
   },
   "outputs": [],
   "source": []
  },
  {
   "cell_type": "markdown",
   "metadata": {},
   "source": [
    "## Item-Based Filtering"
   ]
  },
  {
   "cell_type": "code",
   "execution_count": 31,
   "metadata": {
    "collapsed": true
   },
   "outputs": [],
   "source": [
    "#The general technique is to precompute the most similar items for each item. \n",
    "#Then, when you wish to make recommendations to a user, you look at his top-rated\n",
    "#items and create a weighted list of the items most similar to those. "
   ]
  },
  {
   "cell_type": "code",
   "execution_count": 32,
   "metadata": {
    "collapsed": true
   },
   "outputs": [],
   "source": [
    "# BUILDING THE ITEM COMPARISON DATASET"
   ]
  },
  {
   "cell_type": "code",
   "execution_count": 64,
   "metadata": {},
   "outputs": [],
   "source": [
    "def calculateSimilarItems(prefs,n=10):\n",
    "     # Create a dictionary of items showing which other items they\n",
    "     # are most similar to.\n",
    "     result={}\n",
    "     # Invert the preference matrix to be item-centric\n",
    "     itemPrefs=tranformPrefs(prefs)\n",
    "     c=0\n",
    "     for item in itemPrefs:\n",
    "         # Status updates for large datasets\n",
    "         c+=1\n",
    "         if c%100==0: print( \"%d / %d\" % (c,len(itemPrefs)) )\n",
    "         # Find the most similar items to this one\n",
    "         scores=topMatches(itemPrefs,item,n=n,similarity=sim_distance)\n",
    "         result[item]=scores\n",
    "     return result"
   ]
  },
  {
   "cell_type": "code",
   "execution_count": 67,
   "metadata": {},
   "outputs": [
    {
     "data": {
      "text/plain": [
       "[(0.16666666666666666, 'Snakes on a Plane'),\n",
       " (0.10256410256410256, 'The Night Listener'),\n",
       " (0.09090909090909091, 'Lady in the Water'),\n",
       " (0.06451612903225806, 'Just My Luck'),\n",
       " (0.05333333333333334, 'You, Me and Dupree')]"
      ]
     },
     "execution_count": 67,
     "metadata": {},
     "output_type": "execute_result"
    }
   ],
   "source": [
    "# Similar Movies to Superman Returns\n",
    "calculateSimilarItems(critics)['Superman Returns']"
   ]
  },
  {
   "cell_type": "code",
   "execution_count": 68,
   "metadata": {
    "collapsed": true
   },
   "outputs": [],
   "source": [
    "# using the same weighted sum calculation ,we can calculate Recommended items and can give recommendations"
   ]
  },
  {
   "cell_type": "code",
   "execution_count": 69,
   "metadata": {},
   "outputs": [],
   "source": [
    "def getRecommendedItems(prefs,itemMatch,user):\n",
    "     userRatings=prefs[user]\n",
    "     scores={}\n",
    "     totalSim={}\n",
    "     # Loop over items rated by this user\n",
    "     for (item,rating) in userRatings.items( ):\n",
    "         # Loop over items similar to this one\n",
    "         for (similarity,item2) in itemMatch[item]:\n",
    "             # Ignore if this user has already rated this item\n",
    "             if item2 in userRatings: continue\n",
    "             # Weighted sum of rating times similarity\n",
    "             scores.setdefault(item2,0)\n",
    "             scores[item2]+=similarity*rating\n",
    "             # Sum of all the similarities\n",
    "             totalSim.setdefault(item2,0)\n",
    "             totalSim[item2]+=similarity\n",
    "     # Divide each total score by total weighting to get an average\n",
    "     rankings=[(score/totalSim[item],item) for item,score in scores.items( )]\n",
    "     # Return the rankings from highest to lowest\n",
    "     rankings.sort( )\n",
    "     rankings.reverse( )\n",
    "     return rankings"
   ]
  },
  {
   "cell_type": "code",
   "execution_count": 70,
   "metadata": {},
   "outputs": [
    {
     "data": {
      "text/plain": [
       "[(3.182634730538922, 'The Night Listener'),\n",
       " (2.5983318700614575, 'Just My Luck'),\n",
       " (2.4730878186968837, 'Lady in the Water')]"
      ]
     },
     "execution_count": 70,
     "metadata": {},
     "output_type": "execute_result"
    }
   ],
   "source": [
    "itemsim = calculateSimilarItems(critics)\n",
    "getRecommendedItems(critics,itemsim,'Toby')"
   ]
  },
  {
   "cell_type": "code",
   "execution_count": null,
   "metadata": {
    "collapsed": true
   },
   "outputs": [],
   "source": []
  }
 ],
 "metadata": {
  "kernelspec": {
   "display_name": "Python 3",
   "language": "python",
   "name": "python3"
  }
 },
 "nbformat": 4,
 "nbformat_minor": 2
}
